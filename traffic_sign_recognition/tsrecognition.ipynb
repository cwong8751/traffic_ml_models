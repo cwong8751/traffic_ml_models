{
  "cells": [
    {
      "cell_type": "markdown",
      "source": [
        "We are using the dataset lisa_tiny and yolo v5"
      ],
      "metadata": {
        "id": "4SOUY_WjURdZ"
      },
      "id": "4SOUY_WjURdZ"
    },
    {
      "cell_type": "code",
      "execution_count": null,
      "id": "350ae865-a746-4d14-a826-860c5727abc0",
      "metadata": {
        "id": "350ae865-a746-4d14-a826-860c5727abc0"
      },
      "outputs": [],
      "source": [
        "# setting up yolo v5\n",
        "\n",
        "!git clone https://github.com/ultralytics/yolov5.git\n",
        "%cd yolov5\n",
        "!pip install -U -r requirements.txt\n"
      ]
    },
    {
      "cell_type": "code",
      "source": [
        "# setting up dataset\n",
        "\n",
        "import os\n",
        "import random\n",
        "import shutil\n",
        "import pandas as pd\n",
        "from PIL import Image\n",
        "\n",
        "# define vars\n",
        "image_folder = '/content/drive/My Drive/traffic_sign_recognition/lisa_tiny'\n",
        "annotation_file = '/content/drive/My Drive/traffic_sign_recognition/lisa_tiny/annotations.csv'\n",
        "\n",
        "# Create directories for train and val if they don't exist\n",
        "train_images = '/content/drive/My Drive/traffic_sign_recognition/lisa_tiny/images/train'\n",
        "val_images = '/content/drive/My Drive/traffic_sign_recognition/lisa_tiny/images/val'\n",
        "train_labels = '/content/drive/My Drive/traffic_sign_recognition/lisa_tiny/labels/train/'\n",
        "val_labels = '/content/drive/My Drive/traffic_sign_recognition/lisa_tiny/labels/val/'\n",
        "\n",
        "os.makedirs(train_images, exist_ok=True)\n",
        "os.makedirs(val_images, exist_ok=True)\n",
        "os.makedirs(train_labels, exist_ok=True)\n",
        "os.makedirs(val_labels, exist_ok=True)\n",
        "\n",
        "# Load annotations\n",
        "annotations = pd.read_csv(annotation_file)\n",
        "\n",
        "# Get unique image filenames\n",
        "image_files = annotations['filename'].unique()\n",
        "\n",
        "# Shuffle the list of image files\n",
        "random.shuffle(image_files)\n",
        "\n",
        "# Split the dataset (80% for training, 20% for validation)\n",
        "train_size = int(0.8 * len(image_files))  # 80% for training\n",
        "train_files = image_files[:train_size]\n",
        "val_files = image_files[train_size:]\n",
        "\n",
        "# Move images to the appropriate directories\n",
        "# for file in train_files:\n",
        "#     shutil.move(os.path.join(image_folder, file), os.path.join(train_images, file))\n",
        "# for file in val_files:\n",
        "#     shutil.move(os.path.join(image_folder, file), os.path.join(val_images, file))\n",
        "\n",
        "print(\"moved all files to respective folders\")\n",
        "\n",
        "# Map class names to class IDs\n",
        "class_map = {\n",
        "    'stop': 0,\n",
        "    'yield': 1,\n",
        "    'yieldAhead': 2,\n",
        "    'merge': 3,\n",
        "    'signalAhead': 4,\n",
        "    'pedestrianCrossing': 5,\n",
        "    'keepRight': 6,\n",
        "    'speedLimit35': 7,\n",
        "    'speedLimit25': 8\n",
        "}\n",
        "\n",
        "# since images are already in their respective folders\n",
        "train_files = os.listdir(train_images)\n",
        "val_files = os.listdir(val_images)\n",
        "\n",
        "# Process each image in the training set\n",
        "for file in train_files:\n",
        "    # Get the corresponding annotations for the image\n",
        "    image_annotations = annotations[annotations['filename'] == file]\n",
        "\n",
        "    # Get image size (to normalize bounding box coordinates)\n",
        "    image_path = os.path.join(image_folder, file)\n",
        "    image = Image.open(image_path)\n",
        "    image_width, image_height = image.size\n",
        "\n",
        "    # Create the corresponding label file for YOLO\n",
        "    label_file = os.path.join(train_labels, file.replace('.png', '.txt'))\n",
        "\n",
        "    with open(label_file, 'w') as f:\n",
        "        for _, row in image_annotations.iterrows():\n",
        "            # Get bounding box coordinates\n",
        "            x1, y1, x2, y2 = row['x1'], row['y1'], row['x2'], row['y2']\n",
        "            class_name = row['class']\n",
        "            class_id = class_map[class_name]  # Map class name to ID\n",
        "\n",
        "            # Calculate YOLO format: x_center, y_center, width, height (normalized)\n",
        "            x_center = (x1 + x2) / 2 / image_width\n",
        "            y_center = (y1 + y2) / 2 / image_height\n",
        "            width = (x2 - x1) / image_width\n",
        "            height = (y2 - y1) / image_height\n",
        "\n",
        "            # Write to label file\n",
        "            f.write(f\"{class_id} {x_center} {y_center} {width} {height}\\n\")\n",
        "\n",
        "# Process each image in the validation set\n",
        "for file in val_files:\n",
        "    # Get the corresponding annotations for the image\n",
        "    image_annotations = annotations[annotations['filename'] == file]\n",
        "\n",
        "    # Get image size (to normalize bounding box coordinates)\n",
        "    image_path = os.path.join(image_folder, file)\n",
        "    image = Image.open(image_path)\n",
        "    image_width, image_height = image.size\n",
        "\n",
        "    # Create the corresponding label file for YOLO\n",
        "    label_file = os.path.join(val_labels, file.replace('.png', '.txt'))\n",
        "\n",
        "    with open(label_file, 'w') as f:\n",
        "        for _, row in image_annotations.iterrows():\n",
        "            # Get bounding box coordinates\n",
        "            x1, y1, x2, y2 = row['x1'], row['y1'], row['x2'], row['y2']\n",
        "            class_name = row['class']\n",
        "            class_id = class_map[class_name]  # Map class name to ID\n",
        "\n",
        "            # Calculate YOLO format: x_center, y_center, width, height (normalized)\n",
        "            x_center = (x1 + x2) / 2 / image_width\n",
        "            y_center = (y1 + y2) / 2 / image_height\n",
        "            width = (x2 - x1) / image_width\n",
        "            height = (y2 - y1) / image_height\n",
        "\n",
        "            # Write to label file\n",
        "            f.write(f\"{class_id} {x_center} {y_center} {width} {height}\\n\")\n",
        "\n",
        "print(\"Processed and created YOLO label files for all images\")\n",
        "\n",
        "# Create the YAML file for YOLOv5\n",
        "with open('/content/drive/My Drive/traffic_sign_recognition/lisa_tiny/traffic_sign.yaml', 'w') as f:\n",
        "    f.write(\"\"\"\n",
        "    train: /content/drive/My Drive/traffic_sign_recognition/lisa_tiny/images/train\n",
        "    val: /content/drive/My Drive/traffic_sign_recognition/lisa_tiny/images/val\n",
        "    nc: 9  # Number of classes\n",
        "    names: ['stop', 'yield', 'yieldAhead', 'merge', 'signalAhead', 'pedestrianCrossing', 'keepRight', 'speedLimit35', 'speedLimit25']\n",
        "    \"\"\")\n"
      ],
      "metadata": {
        "colab": {
          "base_uri": "https://localhost:8080/",
          "height": 349
        },
        "id": "MCGfTFmviK0Y",
        "outputId": "a68429b0-a0be-4dba-efa5-5b1c6014f139"
      },
      "id": "MCGfTFmviK0Y",
      "execution_count": 6,
      "outputs": [
        {
          "output_type": "stream",
          "name": "stdout",
          "text": [
            "moved all files to respective folders\n"
          ]
        },
        {
          "output_type": "error",
          "ename": "FileNotFoundError",
          "evalue": "[Errno 2] No such file or directory: '/content/drive/My Drive/traffic_sign_recognition/lisa_tiny/sample_119.png'",
          "traceback": [
            "\u001b[0;31m---------------------------------------------------------------------------\u001b[0m",
            "\u001b[0;31mFileNotFoundError\u001b[0m                         Traceback (most recent call last)",
            "\u001b[0;32m<ipython-input-6-b81eeeb1f71d>\u001b[0m in \u001b[0;36m<cell line: 0>\u001b[0;34m()\u001b[0m\n\u001b[1;32m     68\u001b[0m     \u001b[0;31m# Get image size (to normalize bounding box coordinates)\u001b[0m\u001b[0;34m\u001b[0m\u001b[0;34m\u001b[0m\u001b[0m\n\u001b[1;32m     69\u001b[0m     \u001b[0mimage_path\u001b[0m \u001b[0;34m=\u001b[0m \u001b[0mos\u001b[0m\u001b[0;34m.\u001b[0m\u001b[0mpath\u001b[0m\u001b[0;34m.\u001b[0m\u001b[0mjoin\u001b[0m\u001b[0;34m(\u001b[0m\u001b[0mimage_folder\u001b[0m\u001b[0;34m,\u001b[0m \u001b[0mfile\u001b[0m\u001b[0;34m)\u001b[0m\u001b[0;34m\u001b[0m\u001b[0;34m\u001b[0m\u001b[0m\n\u001b[0;32m---> 70\u001b[0;31m     \u001b[0mimage\u001b[0m \u001b[0;34m=\u001b[0m \u001b[0mImage\u001b[0m\u001b[0;34m.\u001b[0m\u001b[0mopen\u001b[0m\u001b[0;34m(\u001b[0m\u001b[0mimage_path\u001b[0m\u001b[0;34m)\u001b[0m\u001b[0;34m\u001b[0m\u001b[0;34m\u001b[0m\u001b[0m\n\u001b[0m\u001b[1;32m     71\u001b[0m     \u001b[0mimage_width\u001b[0m\u001b[0;34m,\u001b[0m \u001b[0mimage_height\u001b[0m \u001b[0;34m=\u001b[0m \u001b[0mimage\u001b[0m\u001b[0;34m.\u001b[0m\u001b[0msize\u001b[0m\u001b[0;34m\u001b[0m\u001b[0;34m\u001b[0m\u001b[0m\n\u001b[1;32m     72\u001b[0m \u001b[0;34m\u001b[0m\u001b[0m\n",
            "\u001b[0;32m/usr/local/lib/python3.11/dist-packages/PIL/Image.py\u001b[0m in \u001b[0;36mopen\u001b[0;34m(fp, mode, formats)\u001b[0m\n\u001b[1;32m   3463\u001b[0m \u001b[0;34m\u001b[0m\u001b[0m\n\u001b[1;32m   3464\u001b[0m     \u001b[0;32mif\u001b[0m \u001b[0mfilename\u001b[0m\u001b[0;34m:\u001b[0m\u001b[0;34m\u001b[0m\u001b[0;34m\u001b[0m\u001b[0m\n\u001b[0;32m-> 3465\u001b[0;31m         \u001b[0mfp\u001b[0m \u001b[0;34m=\u001b[0m \u001b[0mbuiltins\u001b[0m\u001b[0;34m.\u001b[0m\u001b[0mopen\u001b[0m\u001b[0;34m(\u001b[0m\u001b[0mfilename\u001b[0m\u001b[0;34m,\u001b[0m \u001b[0;34m\"rb\"\u001b[0m\u001b[0;34m)\u001b[0m\u001b[0;34m\u001b[0m\u001b[0;34m\u001b[0m\u001b[0m\n\u001b[0m\u001b[1;32m   3466\u001b[0m         \u001b[0mexclusive_fp\u001b[0m \u001b[0;34m=\u001b[0m \u001b[0;32mTrue\u001b[0m\u001b[0;34m\u001b[0m\u001b[0;34m\u001b[0m\u001b[0m\n\u001b[1;32m   3467\u001b[0m     \u001b[0;32melse\u001b[0m\u001b[0;34m:\u001b[0m\u001b[0;34m\u001b[0m\u001b[0;34m\u001b[0m\u001b[0m\n",
            "\u001b[0;31mFileNotFoundError\u001b[0m: [Errno 2] No such file or directory: '/content/drive/My Drive/traffic_sign_recognition/lisa_tiny/sample_119.png'"
          ]
        }
      ]
    },
    {
      "cell_type": "code",
      "source": [
        "from google.colab import drive\n",
        "drive.mount('/content/drive')"
      ],
      "metadata": {
        "colab": {
          "base_uri": "https://localhost:8080/"
        },
        "id": "SMDm2IUpiQqx",
        "outputId": "a23d3571-1020-42f1-b969-97d01e27477b"
      },
      "id": "SMDm2IUpiQqx",
      "execution_count": 1,
      "outputs": [
        {
          "output_type": "stream",
          "name": "stdout",
          "text": [
            "Mounted at /content/drive\n"
          ]
        }
      ]
    }
  ],
  "metadata": {
    "kernelspec": {
      "display_name": "Python 3 (ipykernel)",
      "language": "python",
      "name": "python3"
    },
    "language_info": {
      "codemirror_mode": {
        "name": "ipython",
        "version": 3
      },
      "file_extension": ".py",
      "mimetype": "text/x-python",
      "name": "python",
      "nbconvert_exporter": "python",
      "pygments_lexer": "ipython3",
      "version": "3.12.2"
    },
    "colab": {
      "provenance": []
    }
  },
  "nbformat": 4,
  "nbformat_minor": 5
}