{
  "cells": [
    {
      "cell_type": "markdown",
      "source": [
        "We are using the dataset lisa_tiny and yolo v5"
      ],
      "metadata": {
        "id": "4SOUY_WjURdZ"
      },
      "id": "4SOUY_WjURdZ"
    },
    {
      "cell_type": "code",
      "execution_count": null,
      "id": "350ae865-a746-4d14-a826-860c5727abc0",
      "metadata": {
        "id": "350ae865-a746-4d14-a826-860c5727abc0"
      },
      "outputs": [],
      "source": [
        "# setting up yolo v5\n",
        "\n",
        "!git clone https://github.com/ultralytics/yolov5.git\n",
        "%cd yolov5\n",
        "!pip install -U -r requirements.txt\n"
      ]
    },
    {
      "cell_type": "code",
      "source": [
        "# setting up dataset\n",
        "\n",
        "import os\n",
        "import random\n",
        "import shutil\n",
        "import pandas as pd\n",
        "from PIL import image\n",
        "\n",
        "# define vars\n",
        "image_folder = '/content/drive/My Drive/traffic_sign_recognition/lisa_tiny'\n",
        "label_folder = '/content/drive/My Drive/traffic_sign_recognition/lisa_tiny/annotation.csv'\n",
        "train_images = '/content/drive/My Drive/traffic_sign_recognition/train'\n",
        "val_images = '/content/drive/My Drive/traffic_sign_recognition/val'\n",
        "\n"
      ],
      "metadata": {
        "id": "MCGfTFmviK0Y"
      },
      "id": "MCGfTFmviK0Y",
      "execution_count": null,
      "outputs": []
    },
    {
      "cell_type": "code",
      "source": [
        "from google.colab import drive\n",
        "drive.mount('/content/drive')"
      ],
      "metadata": {
        "id": "SMDm2IUpiQqx",
        "outputId": "a23d3571-1020-42f1-b969-97d01e27477b",
        "colab": {
          "base_uri": "https://localhost:8080/"
        }
      },
      "id": "SMDm2IUpiQqx",
      "execution_count": 1,
      "outputs": [
        {
          "output_type": "stream",
          "name": "stdout",
          "text": [
            "Mounted at /content/drive\n"
          ]
        }
      ]
    }
  ],
  "metadata": {
    "kernelspec": {
      "display_name": "Python 3 (ipykernel)",
      "language": "python",
      "name": "python3"
    },
    "language_info": {
      "codemirror_mode": {
        "name": "ipython",
        "version": 3
      },
      "file_extension": ".py",
      "mimetype": "text/x-python",
      "name": "python",
      "nbconvert_exporter": "python",
      "pygments_lexer": "ipython3",
      "version": "3.12.2"
    },
    "colab": {
      "provenance": []
    }
  },
  "nbformat": 4,
  "nbformat_minor": 5
}