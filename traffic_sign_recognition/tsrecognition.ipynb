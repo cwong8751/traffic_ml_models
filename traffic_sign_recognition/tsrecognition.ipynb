{
  "cells": [
    {
      "cell_type": "markdown",
      "source": [
        "We are using the dataset lisa_tiny and yolo v5"
      ],
      "metadata": {
        "id": "4SOUY_WjURdZ"
      },
      "id": "4SOUY_WjURdZ"
    },
    {
      "cell_type": "code",
      "execution_count": null,
      "id": "350ae865-a746-4d14-a826-860c5727abc0",
      "metadata": {
        "id": "350ae865-a746-4d14-a826-860c5727abc0"
      },
      "outputs": [],
      "source": [
        "# setting up yolo v5\n",
        "\n",
        "!git clone https://github.com/ultralytics/yolov5.git\n",
        "%cd yolov5\n",
        "!pip install -U -r requirements.txt\n"
      ]
    }
  ],
  "metadata": {
    "kernelspec": {
      "display_name": "Python 3 (ipykernel)",
      "language": "python",
      "name": "python3"
    },
    "language_info": {
      "codemirror_mode": {
        "name": "ipython",
        "version": 3
      },
      "file_extension": ".py",
      "mimetype": "text/x-python",
      "name": "python",
      "nbconvert_exporter": "python",
      "pygments_lexer": "ipython3",
      "version": "3.12.2"
    },
    "colab": {
      "provenance": []
    }
  },
  "nbformat": 4,
  "nbformat_minor": 5
}