{
  "cells": [
    {
      "cell_type": "code",
      "execution_count": null,
      "id": "cd477bf3-accb-480e-9324-b4a40adc6b21",
      "metadata": {
        "id": "cd477bf3-accb-480e-9324-b4a40adc6b21",
        "outputId": "4f68fa98-dd0f-4217-88c8-cd6c8a479c82"
      },
      "outputs": [
        {
          "name": "stdout",
          "output_type": "stream",
          "text": [
            "Requirement already satisfied: opencv-python in /usr/local/lib/python3.13/site-packages (4.10.0.84)\n",
            "Requirement already satisfied: numpy>=1.21.2 in /usr/local/lib/python3.13/site-packages (from opencv-python) (2.1.3)\n"
          ]
        },
        {
          "ename": "ModuleNotFoundError",
          "evalue": "No module named 'cv2'",
          "output_type": "error",
          "traceback": [
            "\u001b[0;31m---------------------------------------------------------------------------\u001b[0m",
            "\u001b[0;31mModuleNotFoundError\u001b[0m                       Traceback (most recent call last)",
            "Cell \u001b[0;32mIn[2], line 6\u001b[0m\n\u001b[1;32m      3\u001b[0m get_ipython()\u001b[38;5;241m.\u001b[39msystem(\u001b[38;5;124m'\u001b[39m\u001b[38;5;124mpip install opencv-python --break-system-packages\u001b[39m\u001b[38;5;124m'\u001b[39m)\n\u001b[1;32m      5\u001b[0m \u001b[38;5;28;01mimport\u001b[39;00m \u001b[38;5;21;01mos\u001b[39;00m\n\u001b[0;32m----> 6\u001b[0m \u001b[38;5;28;01mimport\u001b[39;00m \u001b[38;5;21;01mcv2\u001b[39;00m\n\u001b[1;32m      7\u001b[0m \u001b[38;5;28;01mimport\u001b[39;00m \u001b[38;5;21;01mnumpy\u001b[39;00m \u001b[38;5;28;01mas\u001b[39;00m \u001b[38;5;21;01mnp\u001b[39;00m\n\u001b[1;32m      8\u001b[0m \u001b[38;5;28;01mimport\u001b[39;00m \u001b[38;5;21;01mpandas\u001b[39;00m \u001b[38;5;28;01mas\u001b[39;00m \u001b[38;5;21;01mpd\u001b[39;00m\n",
            "\u001b[0;31mModuleNotFoundError\u001b[0m: No module named 'cv2'"
          ]
        }
      ],
      "source": [
        "# Import necessary libraries\n",
        "\n",
        "!pip install opencv-python --break-system-packages\n",
        "\n",
        "import os\n",
        "import cv2\n",
        "import numpy as np\n",
        "import pandas as pd\n",
        "from tqdm import tqdm\n",
        "from sklearn.model_selection import train_test_split\n",
        "\n",
        "def read_ground_truth(file_path):\n",
        "    import re  # Regular expressions for parsing\n",
        "\n",
        "    with open(file_path, 'r') as f:\n",
        "        lines = f.readlines()\n",
        "\n",
        "    data = []\n",
        "    for line in lines:\n",
        "        if line.startswith(\"#\"):\n",
        "            continue\n",
        "\n",
        "        # Adjust regex to allow negative coordinates\n",
        "        match = re.match(\n",
        "            r\"(\\S+)\\s*/\\s*(\\d+)\\s+(-?\\d+)\\s+(-?\\d+)\\s+(-?\\d+)\\s+(-?\\d+)\\s+(\\d+)\\s+'([^']+)'\\s+'([^']+)'\",\n",
        "            line.strip()\n",
        "        )\n",
        "\n",
        "        if not match:\n",
        "            print(f\"Malformed line skipped: {line.strip()}\")\n",
        "            continue\n",
        "\n",
        "        # Extract matched groups\n",
        "        timestamp = match.group(1)\n",
        "        frame_index = int(match.group(2))\n",
        "        x1, y1, x2, y2 = map(int, match.group(3, 4, 5, 6))\n",
        "        object_id = int(match.group(7))\n",
        "        obj_type = match.group(8)\n",
        "        subtype = match.group(9)\n",
        "\n",
        "        data.append({\n",
        "            \"timestamp\": timestamp,\n",
        "            \"frame_index\": frame_index,\n",
        "            \"x1\": x1,\n",
        "            \"y1\": y1,\n",
        "            \"x2\": x2,\n",
        "            \"y2\": y2,\n",
        "            \"object_id\": object_id,\n",
        "            \"type\": obj_type,\n",
        "            \"subtype\": subtype\n",
        "        })\n",
        "\n",
        "    return pd.DataFrame(data)\n",
        "\n",
        "# Function to load image by frame index\n",
        "def load_image_by_frame(dataset_folder, frame_index):\n",
        "    # Adjust to use 5-digit naming convention\n",
        "    image_path = os.path.join(dataset_folder, f\"frame_{frame_index:06d}.jpg\")\n",
        "    if os.path.exists(image_path):\n",
        "        return cv2.imread(image_path)\n",
        "    else:\n",
        "        print(f\"Image not found: {image_path}\")\n",
        "        return None\n",
        "\n",
        "\n",
        "# Function to visualize ground truth bounding boxes on an image\n",
        "def visualize_ground_truth(image, bbox, label):\n",
        "    x1, y1, x2, y2 = bbox\n",
        "    color = (0, 255, 0)  # Green for bounding box\n",
        "    cv2.rectangle(image, (x1, y1), (x2, y2), color, 2)\n",
        "    cv2.putText(image, label, (x1, y1 - 10), cv2.FONT_HERSHEY_SIMPLEX, 0.5, color, 2)\n",
        "    return image\n",
        "\n",
        "\n",
        "def extract_traffic_light_images(dataset_folder, ground_truth):\n",
        "    images = []\n",
        "    labels = []\n",
        "    label_map = {\"go\": 0, \"stop\": 1, \"warning\": 2, \"ambiguous\": 3}  # Map subtypes to numeric labels\n",
        "\n",
        "    for _, row in tqdm(ground_truth.iterrows()):\n",
        "        frame_index = row[\"frame_index\"]\n",
        "        image = load_image_by_frame(dataset_folder, frame_index)\n",
        "        if image is not None:\n",
        "            # Validate and adjust bounding box coordinates\n",
        "            img_height, img_width, _ = image.shape\n",
        "            x1, y1 = max(0, row[\"x1\"]), max(0, row[\"y1\"])\n",
        "            x2, y2 = min(img_width, row[\"x2\"]), min(img_height, row[\"y2\"])\n",
        "\n",
        "            if x1 >= x2 or y1 >= y2:\n",
        "                print(f\"Skipping invalid bounding box: {x1, y1, x2, y2} in frame {frame_index}\")\n",
        "                continue\n",
        "\n",
        "            # Crop and resize the region of interest (ROI)\n",
        "            cropped_img = image[y1:y2, x1:x2]  # Crop the ROI\n",
        "            cropped_img = cv2.resize(cropped_img, (64, 64)) / 255.0  # Resize and normalize\n",
        "            images.append(cropped_img)\n",
        "\n",
        "            # Add the corresponding label\n",
        "            labels.append(label_map[row[\"subtype\"]])  # Use subtype as the label\n",
        "    return np.array(images), np.array(labels)\n",
        "\n",
        "\n",
        "# Main processing logic\n",
        "if __name__ == \"__main__\":\n",
        "    print(\"data preprocessing on LaRA dataset\")\n",
        "    # Path to ground truth file\n",
        "    ground_truth_path = \"/Users/carl/Documents/GitHub/smtThrottle/traffic_light_recognition/dataset/Lara_UrbanSeq1_GroundTruth_GT.txt\"\n",
        "    print(\"reading ground truth txt\")\n",
        "    ground_truth = read_ground_truth(ground_truth_path)\n",
        "    # print(ground_truth.head())\n",
        "\n",
        "    # Path to dataset folder\n",
        "    dataset_folder = \"/Users/carl/Documents/GitHub/smtThrottle/traffic_light_recognition/dataset/Lara3D_UrbanSeq1_JPG/\"\n",
        "\n",
        "    print(\"read dataset images\")\n",
        "    # Extract and prepare dataset\n",
        "    images, labels = extract_traffic_light_images(dataset_folder, ground_truth)\n",
        "    print(f\"Dataset size: {len(images)} images\")\n",
        "\n",
        "    # split into train test split and save dataset\n",
        "    x_train, x_test, y_train, y_test = train_test_split(images, labels, test_size=0.2, random_state=42)\n",
        "\n",
        "    print(f\"Training set size: {len(x_train)} images\")\n",
        "    print(f\"Testing set size: {len(x_test)} images\")\n",
        "\n",
        "    # save dataset\n",
        "    np.save(\"x_train.npy\", x_train)\n",
        "    np.save(\"x_test.npy\", x_test)\n",
        "    np.save(\"y_train.npy\", y_train)\n",
        "    np.save(\"y_test.npy\", y_test)\n",
        "    print(\"dataset saved\")\n"
      ]
    },
    {
      "cell_type": "code",
      "source": [
        "from google.colab import drive\n",
        "drive.mount('/content/drive')"
      ],
      "metadata": {
        "id": "DYRzpHg0MMdO",
        "outputId": "8eb4e516-eb90-43af-81f6-28f45b761663",
        "colab": {
          "base_uri": "https://localhost:8080/"
        }
      },
      "id": "DYRzpHg0MMdO",
      "execution_count": 1,
      "outputs": [
        {
          "output_type": "stream",
          "name": "stdout",
          "text": [
            "Mounted at /content/drive\n"
          ]
        }
      ]
    },
    {
      "cell_type": "code",
      "execution_count": null,
      "id": "ac86dd94-3c97-4b50-b838-b2fe3afbf8b4",
      "metadata": {
        "id": "ac86dd94-3c97-4b50-b838-b2fe3afbf8b4",
        "outputId": "9b6c5ed8-42e8-4f38-fbd6-c31a17d66b94"
      },
      "outputs": [
        {
          "ename": "ModuleNotFoundError",
          "evalue": "No module named 'tensorflow'",
          "output_type": "error",
          "traceback": [
            "\u001b[0;31m---------------------------------------------------------------------------\u001b[0m",
            "\u001b[0;31mModuleNotFoundError\u001b[0m                       Traceback (most recent call last)",
            "Cell \u001b[0;32mIn[23], line 2\u001b[0m\n\u001b[1;32m      1\u001b[0m \u001b[38;5;66;03m# cnn model to train \u001b[39;00m\n\u001b[0;32m----> 2\u001b[0m \u001b[38;5;28;01mimport\u001b[39;00m \u001b[38;5;21;01mtensorflow\u001b[39;00m \u001b[38;5;28;01mas\u001b[39;00m \u001b[38;5;21;01mtf\u001b[39;00m\n\u001b[1;32m      3\u001b[0m \u001b[38;5;28;01mfrom\u001b[39;00m \u001b[38;5;21;01mtensorflow\u001b[39;00m\u001b[38;5;21;01m.\u001b[39;00m\u001b[38;5;21;01mkeras\u001b[39;00m\u001b[38;5;21;01m.\u001b[39;00m\u001b[38;5;21;01mmodels\u001b[39;00m \u001b[38;5;28;01mimport\u001b[39;00m Sequential\n\u001b[1;32m      4\u001b[0m \u001b[38;5;28;01mfrom\u001b[39;00m \u001b[38;5;21;01mtensorflow\u001b[39;00m\u001b[38;5;21;01m.\u001b[39;00m\u001b[38;5;21;01mkeras\u001b[39;00m\u001b[38;5;21;01m.\u001b[39;00m\u001b[38;5;21;01mlayers\u001b[39;00m \u001b[38;5;28;01mimport\u001b[39;00m Conv2D, MaxPooling2D, Flatten, Dense\n",
            "\u001b[0;31mModuleNotFoundError\u001b[0m: No module named 'tensorflow'"
          ]
        }
      ],
      "source": [
        "# cnn model to train\n",
        "import tensorflow as tf\n",
        "from tensorflow.keras.models import Sequential\n",
        "from tensorflow.keras.layers import Conv2D, MaxPooling2D, Flatten, Dense\n",
        "\n",
        "# load the god damn model from the npy files because we're now on google colab\n",
        "x_train = np.load(\"/content/drive/traffic_light_recognition/x_train.npy\")  # Training images\n",
        "x_test = np.load(\"/content/drive/traffic_light_recognition/x_test.npy\")    # Testing images\n",
        "y_train = np.load(\"/content/drive/traffic_light_recognition/y_train.npy\")  # Training labels\n",
        "y_test = np.load(\"/content/drive/traffic_light_recognition/y_test.npy\")\n",
        "\n",
        "# Build a simple CNN model\n",
        "model = Sequential([\n",
        "    Conv2D(32, (3, 3), activation='relu', input_shape=(64, 64, 3)),\n",
        "    MaxPooling2D((2, 2)),\n",
        "    Flatten(),\n",
        "    Dense(64, activation='relu'),\n",
        "    Dense(4, activation='softmax')  # 4 classes: \"go\", \"stop\", \"warning\", \"ambiguous\"\n",
        "])\n",
        "\n",
        "# Compile the model\n",
        "model.compile(optimizer='adam', loss='sparse_categorical_crossentropy', metrics=['accuracy'])\n",
        "\n",
        "# Train the model\n",
        "model.fit(X_train, y_train, epochs=10, validation_data=(X_test, y_test))\n"
      ]
    },
    {
      "cell_type": "code",
      "execution_count": null,
      "id": "61813fc2-7b6d-4501-8d35-84d7527ace78",
      "metadata": {
        "id": "61813fc2-7b6d-4501-8d35-84d7527ace78"
      },
      "outputs": [],
      "source": []
    }
  ],
  "metadata": {
    "kernelspec": {
      "display_name": "Python 3 (ipykernel)",
      "language": "python",
      "name": "python3"
    },
    "language_info": {
      "codemirror_mode": {
        "name": "ipython",
        "version": 3
      },
      "file_extension": ".py",
      "mimetype": "text/x-python",
      "name": "python",
      "nbconvert_exporter": "python",
      "pygments_lexer": "ipython3",
      "version": "3.8.19"
    },
    "colab": {
      "provenance": []
    }
  },
  "nbformat": 4,
  "nbformat_minor": 5
}